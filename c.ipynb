{
 "cells": [
  {
   "cell_type": "markdown",
   "id": "874c16a7",
   "metadata": {},
   "source": [
    "1.\tWrite a python program to Pre-process the given data set such as cleaning, removing duplicate, outlier etc."
   ]
  },
  {
   "cell_type": "code",
   "execution_count": null,
   "id": "085f7e7c",
   "metadata": {},
   "outputs": [],
   "source": [
    "import pandas as pd\n",
    "import numpy as np\n",
    "\n",
    "# Create the DataFrame\n",
    "data = {\n",
    "    \"ID\": [1, 2, 3, 4, 5, 6, 7, 8, 9, 10, 11],\n",
    "    \"Name\": [\"Alice\", \"Bob\", \"Charlie\", None, \"David\", \"Eve\", \"Alice\", \"Frank\", \"Grace\", \"Charlie\", \"Charlie\"],\n",
    "    \"Age\": [25, 29, 28, np.nan, 32, 35, 25, 100, 26, 28, 28],\n",
    "    \"Salary\": [50000, 60000, 55000, 70000, None, 80000, 50000, 100000, 65000, 60000, 60000],\n",
    "    \"Department\": [\"HR\", \"IT\", \"IT\", \"HR\", \"IT\", \"Sales\", \"HR\", \"HR\", \"IT\", \"IT\", \"IT\"],\n",
    "    \"Join Date\": [\"01-01-2020\", \"15-05-2020\", \"20-03-2021\", \"25-11-2020\", \"30-08-2021\", None, \"01-01-2020\", \"18-06-2022\", \"11-07-2021\", \"20-03-2021\", \"20-03-2021\"],\n",
    "    \"Bonus\": [5000, 6000, 5500, 7000, None, 8000, 5000, 10000, 6500, 5500, 6000]\n",
    "}\n",
    "\n",
    "df = pd.DataFrame(data)\n",
    "\n",
    "print(\"Original DataFrame:\")\n",
    "print(df)\n",
    "\n",
    "df_no_missing = df.dropna()\n",
    "print(\"\\nDataFrame after removing rows with missing values:\")\n",
    "print(df_no_missing)\n",
    "\n",
    "df_no_duplicates = df_no_missing.drop_duplicates(subset=['Name','Age'])\n",
    "print(\"\\nDataFrame after removing duplicate rows:\")\n",
    "print(df_no_duplicates)\n",
    "\n",
    "Q1_age, Q3_age = df_no_duplicates[\"Age\"].quantile([0.25, 0.75])\n",
    "Q1_salary, Q3_salary = df_no_duplicates[\"Salary\"].quantile([0.25, 0.75])\n",
    "IQR_age = Q3_age - Q1_age\n",
    "IQR_salary = Q3_salary - Q1_salary\n",
    "\n",
    "lower_age = Q1_age - 1.5 * IQR_age\n",
    "upper_age = Q3_age + 1.5 * IQR_age\n",
    "lower_salary = Q1_salary - 1.5 * IQR_salary\n",
    "upper_salary = Q3_salary + 1.5 * IQR_salary\n",
    "\n",
    "df_no_outliers = df_no_duplicates[\n",
    "    (df_no_duplicates[\"Age\"] >= lower_age) & (df_no_duplicates[\"Age\"] <= upper_age) &\n",
    "    (df_no_duplicates[\"Salary\"] >= lower_salary) & (df_no_duplicates[\"Salary\"] <= upper_salary)\n",
    "]\n",
    "print(\"\\nDataFrame after removing outliers:\")\n",
    "print(df_no_outliers)\n",
    "\n",
    "print(\"\\nFinal Cleaned DataFrame:\")\n",
    "print(df_no_outliers.drop_duplicates)"
   ]
  },
  {
   "cell_type": "markdown",
   "id": "5ef55853",
   "metadata": {},
   "source": [
    "2.\tWrite a Python program to illustrate Gaussian Naive Bayes algorithm with minimum 15 training data set and prediction for the new data."
   ]
  },
  {
   "cell_type": "code",
   "execution_count": 11,
   "id": "06861ef5",
   "metadata": {},
   "outputs": [
    {
     "name": "stdout",
     "output_type": "stream",
     "text": [
      "Prediction (1=Pass, 0=Fail): 1\n",
      "Class Probabilities [Fail, Pass]: [0.15428703 0.84571297]\n"
     ]
    }
   ],
   "source": [
    "from sklearn.naive_bayes import GaussianNB\n",
    "\n",
    "X = [[2,7],[3,6],[4,5],[5,6],[6,5],[7,4],[8,3],[9,2],[10,1],[1,8],[3,7],[2,6],[4,4],[5,5],[6,4]]\n",
    "y = [0,0,0,1,1,1,1,1,1,0,0,0,1,1,1]\n",
    "\n",
    "m = GaussianNB().fit(X, y)\n",
    "pred = m.predict([[4.5, 5]])\n",
    "prob = m.predict_proba([[4.5, 5]])\n",
    "\n",
    "print(\"Prediction (1=Pass, 0=Fail):\", pred[0])\n",
    "print(\"Class Probabilities [Fail, Pass]:\", prob[0])\n"
   ]
  },
  {
   "cell_type": "markdown",
   "id": "2fb47c2b",
   "metadata": {},
   "source": [
    "3.\tWrite a Python program to classify features as Cat or Dog using Gaussian Naive Bayes algorithm with minimum 10 training data set. Features to be considered ['mean', 'stddev'] and prediction for the new data [219.74617433, 53.87654393]."
   ]
  },
  {
   "cell_type": "code",
   "execution_count": 17,
   "id": "2bc0724c",
   "metadata": {},
   "outputs": [
    {
     "name": "stdout",
     "output_type": "stream",
     "text": [
      "Dog\n"
     ]
    }
   ],
   "source": [
    "from sklearn.naive_bayes import GaussianNB\n",
    "X = [[200.1, 50.5], [210.3, 52.1], [190.8, 48.9], [220.5, 55.2], [205.9, 51.3],\n",
    "     [230.4, 57.1], [240.7, 60.5], [250.6, 63.2], [195.2, 49.5], [225.1, 54.8]]\n",
    "y = [0, 0, 0, 0, 0, 1, 1, 1, 0, 1]\n",
    "\n",
    "m = GaussianNB().fit(X, y)\n",
    "p = m.predict([[219.74617433, 53.87654393]])\n",
    "\n",
    "print(\"Cat\" if pred[0] == 0 else \"Dog\")\n"
   ]
  },
  {
   "cell_type": "markdown",
   "id": "15a6e30a",
   "metadata": {},
   "source": [
    "4.\tWrite a Python program to illustrate Linear regression algorithm. Features to be considered [year, GDP] with minimum 15 data."
   ]
  },
  {
   "cell_type": "code",
   "execution_count": 20,
   "id": "448a41a3",
   "metadata": {},
   "outputs": [
    {
     "name": "stdout",
     "output_type": "stream",
     "text": [
      "Predicted GDP for 2015: 24.56 Trillion USD\n"
     ]
    },
    {
     "data": {
      "image/png": "[encoded data removed]",
      "text/plain": [
       "<Figure size 640x480 with 1 Axes>"
      ]
     },
     "metadata": {},
     "output_type": "display_data"
    }
   ],
   "source": [
    "import matplotlib.pyplot as p\n",
    "from sklearn.linear_model import LinearRegression as L\n",
    "\n",
    "x = [[i] for i in range(2000, 2015)]\n",
    "y = [10.0, 10.5, 11.2, 12.0, 13.0, 14.1, 15.3, 16.5, 17.8, 18.2, 19.0, 20.3, 21.5, 22.8, 24.0]\n",
    "\n",
    "m = L().fit(x, y)\n",
    "z = [[2015]]\n",
    "g = m.predict(z)\n",
    "print(f\"Predicted GDP for {z[0][0]}: {g[0]:.2f} Trillion USD\")\n",
    "\n",
    "p.scatter(x, y, c='b', label='Actual')\n",
    "p.plot(x, m.predict(x), 'r', label='Line')\n",
    "p.scatter(z, g, c='g', label='2015')\n",
    "p.xlabel('Year')\n",
    "p.ylabel('GDP')\n",
    "p.title('Year vs GDP')\n",
    "p.legend()\n",
    "p.show()\n"
   ]
  },
  {
   "cell_type": "markdown",
   "id": "5e1cae12",
   "metadata": {},
   "source": [
    "5.\tWrite a Python program to illustrate Linear regression algorithm on the data features [Year, Rainfall] with minimum15 data.\n",
    "Predict for the new year 2026\n",
    "Display the result Year vs Rainfall   in scatter plot.\t"
   ]
  },
  {
   "cell_type": "code",
   "execution_count": 19,
   "id": "d454e67b",
   "metadata": {},
   "outputs": [
    {
     "name": "stdout",
     "output_type": "stream",
     "text": [
      "Predicted Rainfall for 2026: 1907.50 mm\n"
     ]
    },
    {
     "data": {
      "image/png": "[encoded data removed]",
      "text/plain": [
       "<Figure size 640x480 with 1 Axes>"
      ]
     },
     "metadata": {},
     "output_type": "display_data"
    }
   ],
   "source": [
    "import matplotlib.pyplot as p\n",
    "from sklearn.linear_model import LinearRegression as L\n",
    "\n",
    "x = [[i] for i in range(2005, 2020)]\n",
    "y = [1200, 1180, 1250, 1300, 1100, 1150, 1400, 1380, 1450, 1500, 1350, 1600, 1550, 1700, 1650]\n",
    "\n",
    "m = L().fit(x, y)\n",
    "z = [[2026]]\n",
    "r = m.predict(z)\n",
    "print(f\"Predicted Rainfall for {z[0][0]}: {r[0]:.2f} mm\")\n",
    "\n",
    "p.scatter(x, y, c='b', label='Actual')\n",
    "p.plot(x, m.predict(x), 'r', label='Line')\n",
    "p.scatter(z, r, c='g', label='2026')\n",
    "p.xlabel('Year')\n",
    "p.ylabel('Rainfall')\n",
    "p.title('Year vs Rainfall')\n",
    "p.legend()\n",
    "p.show()\n"
   ]
  },
  {
   "cell_type": "markdown",
   "id": "9d6f20f0",
   "metadata": {},
   "source": [
    "6.\tWrite a Python program to illustrate Logistic regression algorithm."
   ]
  },
  {
   "cell_type": "code",
   "execution_count": 29,
   "id": "0bc05b5a",
   "metadata": {},
   "outputs": [
    {
     "name": "stdout",
     "output_type": "stream",
     "text": [
      "Accuracy: 100.0%\n"
     ]
    },
    {
     "data": {
      "image/png": "[encoded data removed]",
      "text/plain": [
       "<Figure size 640x480 with 1 Axes>"
      ]
     },
     "metadata": {},
     "output_type": "display_data"
    }
   ],
   "source": [
    "import matplotlib.pyplot as p\n",
    "from sklearn.linear_model import LogisticRegression as L\n",
    "from sklearn.model_selection import train_test_split as s\n",
    "from sklearn.metrics import accuracy_score as a\n",
    "\n",
    "x = [[i] for i in [50,55,60,65,70,75,80,85,90,95,100,40,45,35,30]]\n",
    "y = [0,0,0,0,1,1,1,1,1,1,1,0,0,0,0]\n",
    "\n",
    "x1, x2, y1, y2 = s(x, y, test_size=0.2)\n",
    "m = L().fit(x1, y1)\n",
    "print(f\"Accuracy: {a(y2, m.predict(x2))*100:.1f}%\")\n",
    "\n",
    "r = [[i] for i in range(20,111)]\n",
    "p.scatter(x, y, c='b', label='Data')\n",
    "p.plot([i[0] for i in r], m.predict_proba(r)[:,1], 'r', label='Logistic Curve')\n",
    "p.xlabel('Exam Score')\n",
    "p.ylabel('Pass Probability')\n",
    "p.title('Score vs Pass (Logistic)')\n",
    "p.legend()\n",
    "p.show()\n"
   ]
  },
  {
   "cell_type": "markdown",
   "id": "750630fe",
   "metadata": {},
   "source": [
    "7.\tWrite a Python program to illustrate SVM algorithm to predict 'Man' or 'woman' with the data features ['height','age']. Minimum training data set=20 "
   ]
  },
  {
   "cell_type": "code",
   "execution_count": 30,
   "id": "3e441193",
   "metadata": {},
   "outputs": [
    {
     "name": "stdout",
     "output_type": "stream",
     "text": [
      "A: 100.0%\n",
      "Class: Man\n"
     ]
    }
   ],
   "source": [
    "from sklearn.svm import SVC\n",
    "from sklearn.model_selection import train_test_split as s\n",
    "from sklearn.metrics import accuracy_score as a\n",
    "\n",
    "x = [[170,25],[165,30],[180,35],[175,40],[160,22],[158,28],[182,45],[190,50],[155,23],[168,32],\n",
    "     [172,27],[178,38],[185,42],[162,29],[150,20],[157,26],[188,48],[195,55],[167,33],[159,24]]\n",
    "y = [1,1,1,1,0,0,1,1,0,1,1,1,1,0,0,0,1,1,1,0]\n",
    "\n",
    "x1,x2,y1,y2 = s(x,y,test_size=0.2)\n",
    "m = SVC(kernel='linear').fit(x1,y1)\n",
    "print(f\"A: {a(y2,m.predict(x2))*100:.1f}%\")\n",
    "\n",
    "p = m.predict([[175,34]])\n",
    "print(\"Class:\", \"Man\" if p[0] else \"Woman\")\n"
   ]
  },
  {
   "cell_type": "markdown",
   "id": "5f4dc82f",
   "metadata": {},
   "source": [
    "8.\tWrite a Python program to illustrate KNN algorithm with minimum 20 training dataset, data features (Height in cm, Weight in kg), Labels (e.g., Class 0 or 1) and predict the class for the new data [[165, 60]]"
   ]
  },
  {
   "cell_type": "code",
   "execution_count": 31,
   "id": "8830e495",
   "metadata": {},
   "outputs": [
    {
     "name": "stdout",
     "output_type": "stream",
     "text": [
      "A: 100.0%\n",
      "Class: 1\n"
     ]
    }
   ],
   "source": [
    "from sklearn.neighbors import KNeighborsClassifier as K\n",
    "from sklearn.model_selection import train_test_split as s\n",
    "from sklearn.metrics import accuracy_score as a\n",
    "\n",
    "x = [[170,65],[165,70],[180,80],[175,75],[160,55],[158,50],[182,85],[190,90],[155,45],[168,68],\n",
    "     [172,72],[178,78],[185,88],[162,60],[150,50],[157,52],[188,92],[195,95],[167,66],[159,58]]\n",
    "y = [1,1,1,1,0,0,1,1,0,1,1,1,1,0,0,0,1,1,1,0]\n",
    "\n",
    "x1,x2,y1,y2 = s(x,y,test_size=0.2)\n",
    "m = K(n_neighbors=3).fit(x1,y1)\n",
    "print(f\"A: {a(y2,m.predict(x2))*100:.1f}%\")\n",
    "\n",
    "p = m.predict([[165,60]])\n",
    "print(\"Class:\", p[0])\n"
   ]
  },
  {
   "cell_type": "markdown",
   "id": "639aa491",
   "metadata": {},
   "source": [
    "9.\tWrite a Python program to illustrate K-means algorithm for the data_features = [\"Hieght\", \"Age\"] with minimum 20 training data. Display the the output in scatter plot."
   ]
  },
  {
   "cell_type": "code",
   "execution_count": 32,
   "id": "9e3ef8e9",
   "metadata": {},
   "outputs": [
    {
     "name": "stderr",
     "output_type": "stream",
     "text": [
      "C:\\Users\\gayathri rao\\AppData\\Local\\Programs\\Python\\Python310\\lib\\site-packages\\joblib\\externals\\loky\\backend\\context.py:136: UserWarning: Could not find the number of physical cores for the following reason:\n",
      "[WinError 2] The system cannot find the file specified\n",
      "Returning the number of logical cores instead. You can silence this warning by setting LOKY_MAX_CPU_COUNT to the number of cores you want to use.\n",
      "  warnings.warn(\n",
      "  File \"C:\\Users\\gayathri rao\\AppData\\Local\\Programs\\Python\\Python310\\lib\\site-packages\\joblib\\externals\\loky\\backend\\context.py\", line 257, in _count_physical_cores\n",
      "    cpu_info = subprocess.run(\n",
      "  File \"C:\\Users\\gayathri rao\\AppData\\Local\\Programs\\Python\\Python310\\lib\\subprocess.py\", line 501, in run\n",
      "    with Popen(*popenargs, **kwargs) as process:\n",
      "  File \"C:\\Users\\gayathri rao\\AppData\\Local\\Programs\\Python\\Python310\\lib\\subprocess.py\", line 969, in __init__\n",
      "    self._execute_child(args, executable, preexec_fn, close_fds,\n",
      "  File \"C:\\Users\\gayathri rao\\AppData\\Local\\Programs\\Python\\Python310\\lib\\subprocess.py\", line 1438, in _execute_child\n",
      "    hp, ht, pid, tid = _winapi.CreateProcess(executable, args,\n"
     ]
    },
    {
     "data": {
      "image/png": "[encoded data removed]",
      "text/plain": [
       "<Figure size 640x480 with 1 Axes>"
      ]
     },
     "metadata": {},
     "output_type": "display_data"
    }
   ],
   "source": [
    "from sklearn.cluster import KMeans as K\n",
    "import matplotlib.pyplot as p\n",
    "\n",
    "x = [[170,25],[165,30],[180,35],[175,40],[160,22],[158,28],[182,45],[190,50],[155,23],[168,32],\n",
    "     [172,27],[178,38],[185,42],[162,29],[150,20],[157,26],[188,48],[195,55],[167,33],[159,24]]\n",
    "\n",
    "m = K(n_clusters=2, random_state=42).fit(x)\n",
    "l = m.labels_\n",
    "c = m.cluster_centers_\n",
    "\n",
    "p.scatter([i[0] for i in x], [i[1] for i in x], c=l, cmap='viridis', edgecolors='k')\n",
    "p.scatter(c[:,0], c[:,1], c='r', marker='X', s=200, label='Centroids')\n",
    "p.xlabel('Height'), p.ylabel('Age'), p.title('K-Means: Height vs Age'), p.legend()\n",
    "p.show()\n"
   ]
  },
  {
   "cell_type": "markdown",
   "id": "58e63ea4",
   "metadata": {},
   "source": [
    "10.\tWrite a Python program to illustrate Market Basket Analysis using Apriori algorithm."
   ]
  },
  {
   "cell_type": "code",
   "execution_count": 33,
   "id": "3424ea10",
   "metadata": {},
   "outputs": [
    {
     "name": "stdout",
     "output_type": "stream",
     "text": [
      "Requirement already satisfied: mlxtend in c:\\users\\gayathri rao\\appdata\\local\\programs\\python\\python310\\lib\\site-packages (0.23.4)\n",
      "Requirement already satisfied: pandas in c:\\users\\gayathri rao\\appdata\\local\\programs\\python\\python310\\lib\\site-packages (1.5.2)\n",
      "Requirement already satisfied: matplotlib>=3.0.0 in c:\\users\\gayathri rao\\appdata\\local\\programs\\python\\python310\\lib\\site-packages (from mlxtend) (3.5.3)\n",
      "Requirement already satisfied: numpy>=1.16.2 in c:\\users\\gayathri rao\\appdata\\local\\programs\\python\\python310\\lib\\site-packages (from mlxtend) (1.24.2)\n",
      "Requirement already satisfied: scipy>=1.2.1 in c:\\users\\gayathri rao\\appdata\\local\\programs\\python\\python310\\lib\\site-packages (from mlxtend) (1.9.1)\n",
      "Requirement already satisfied: scikit-learn>=1.3.1 in c:\\users\\gayathri rao\\appdata\\local\\programs\\python\\python310\\lib\\site-packages (from mlxtend) (1.6.1)\n",
      "Requirement already satisfied: joblib>=0.13.2 in c:\\users\\gayathri rao\\appdata\\local\\programs\\python\\python310\\lib\\site-packages (from mlxtend) (1.4.2)\n",
      "Requirement already satisfied: python-dateutil>=2.8.1 in c:\\users\\gayathri rao\\appdata\\local\\programs\\python\\python310\\lib\\site-packages (from pandas) (2.8.2)\n",
      "Requirement already satisfied: pytz>=2020.1 in c:\\users\\gayathri rao\\appdata\\local\\programs\\python\\python310\\lib\\site-packages (from pandas) (2022.2.1)\n",
      "Requirement already satisfied: cycler>=0.10 in c:\\users\\gayathri rao\\appdata\\local\\programs\\python\\python310\\lib\\site-packages (from matplotlib>=3.0.0->mlxtend) (0.11.0)\n",
      "Requirement already satisfied: packaging>=20.0 in c:\\users\\gayathri rao\\appdata\\local\\programs\\python\\python310\\lib\\site-packages (from matplotlib>=3.0.0->mlxtend) (21.3)\n",
      "Requirement already satisfied: pyparsing>=2.2.1 in c:\\users\\gayathri rao\\appdata\\local\\programs\\python\\python310\\lib\\site-packages (from matplotlib>=3.0.0->mlxtend) (3.0.9)\n",
      "Requirement already satisfied: kiwisolver>=1.0.1 in c:\\users\\gayathri rao\\appdata\\local\\programs\\python\\python310\\lib\\site-packages (from matplotlib>=3.0.0->mlxtend) (1.4.4)\n",
      "Requirement already satisfied: pillow>=6.2.0 in c:\\users\\gayathri rao\\appdata\\local\\programs\\python\\python310\\lib\\site-packages (from matplotlib>=3.0.0->mlxtend) (9.1.1)\n",
      "Requirement already satisfied: fonttools>=4.22.0 in c:\\users\\gayathri rao\\appdata\\local\\programs\\python\\python310\\lib\\site-packages (from matplotlib>=3.0.0->mlxtend) (4.35.0)\n",
      "Requirement already satisfied: six>=1.5 in c:\\users\\gayathri rao\\appdata\\local\\programs\\python\\python310\\lib\\site-packages (from python-dateutil>=2.8.1->pandas) (1.16.0)\n",
      "Requirement already satisfied: threadpoolctl>=3.1.0 in c:\\users\\gayathri rao\\appdata\\local\\programs\\python\\python310\\lib\\site-packages (from scikit-learn>=1.3.1->mlxtend) (3.1.0)\n",
      "Note: you may need to restart the kernel to use updated packages.\n"
     ]
    },
    {
     "name": "stderr",
     "output_type": "stream",
     "text": [
      "\n",
      "[notice] A new release of pip is available: 23.0.1 -> 25.0.1\n",
      "[notice] To update, run: python.exe -m pip install --upgrade pip\n"
     ]
    }
   ],
   "source": [
    "pip install mlxtend pandas\n"
   ]
  },
  {
   "cell_type": "code",
   "execution_count": 36,
   "id": "7c5e1981",
   "metadata": {},
   "outputs": [
    {
     "name": "stdout",
     "output_type": "stream",
     "text": [
      "Frequent Itemsets:\n",
      "    support               itemsets\n",
      "0       0.7                (Bread)\n",
      "1       0.7               (Butter)\n",
      "2       0.6                 (Eggs)\n",
      "3       0.7                 (Milk)\n",
      "4       0.6        (Bread, Butter)\n",
      "5       0.4          (Eggs, Bread)\n",
      "6       0.4          (Bread, Milk)\n",
      "7       0.3         (Eggs, Butter)\n",
      "8       0.5         (Butter, Milk)\n",
      "9       0.4           (Eggs, Milk)\n",
      "10      0.3  (Eggs, Bread, Butter)\n",
      "11      0.4  (Bread, Butter, Milk)\n",
      "\n",
      "Association Rules:\n",
      "       antecedents     consequents  antecedent support  consequent support  \\\n",
      "0          (Bread)        (Butter)                 0.7                 0.7   \n",
      "1         (Butter)         (Bread)                 0.7                 0.7   \n",
      "2         (Butter)          (Milk)                 0.7                 0.7   \n",
      "3           (Milk)        (Butter)                 0.7                 0.7   \n",
      "4    (Eggs, Bread)        (Butter)                 0.4                 0.7   \n",
      "5   (Eggs, Butter)         (Bread)                 0.3                 0.7   \n",
      "6          (Bread)  (Eggs, Butter)                 0.7                 0.3   \n",
      "7         (Butter)   (Eggs, Bread)                 0.7                 0.4   \n",
      "8    (Bread, Milk)        (Butter)                 0.4                 0.7   \n",
      "9   (Butter, Milk)         (Bread)                 0.5                 0.7   \n",
      "10         (Bread)  (Butter, Milk)                 0.7                 0.5   \n",
      "11        (Butter)   (Bread, Milk)                 0.7                 0.4   \n",
      "\n",
      "    support  confidence      lift  representativity  leverage  conviction  \\\n",
      "0       0.6    0.857143  1.224490               1.0      0.11    2.100000   \n",
      "1       0.6    0.857143  1.224490               1.0      0.11    2.100000   \n",
      "2       0.5    0.714286  1.020408               1.0      0.01    1.050000   \n",
      "3       0.5    0.714286  1.020408               1.0      0.01    1.050000   \n",
      "4       0.3    0.750000  1.071429               1.0      0.02    1.200000   \n",
      "5       0.3    1.000000  1.428571               1.0      0.09         inf   \n",
      "6       0.3    0.428571  1.428571               1.0      0.09    1.225000   \n",
      "7       0.3    0.428571  1.071429               1.0      0.02    1.050000   \n",
      "8       0.4    1.000000  1.428571               1.0      0.12         inf   \n",
      "9       0.4    0.800000  1.142857               1.0      0.05    1.500000   \n",
      "10      0.4    0.571429  1.142857               1.0      0.05    1.166667   \n",
      "11      0.4    0.571429  1.428571               1.0      0.12    1.400000   \n",
      "\n",
      "    zhangs_metric   jaccard  certainty  kulczynski  \n",
      "0        0.611111  0.750000   0.523810    0.857143  \n",
      "1        0.611111  0.750000   0.523810    0.857143  \n",
      "2        0.066667  0.555556   0.047619    0.714286  \n",
      "3        0.066667  0.555556   0.047619    0.714286  \n",
      "4        0.111111  0.375000   0.166667    0.589286  \n",
      "5        0.428571  0.428571   1.000000    0.714286  \n",
      "6        1.000000  0.428571   0.183673    0.714286  \n",
      "7        0.222222  0.375000   0.047619    0.589286  \n",
      "8        0.500000  0.571429   1.000000    0.785714  \n",
      "9        0.250000  0.500000   0.333333    0.685714  \n",
      "10       0.416667  0.500000   0.142857    0.685714  \n",
      "11       1.000000  0.571429   0.285714    0.785714  \n"
     ]
    }
   ],
   "source": [
    "from mlxtend.frequent_patterns import apriori, association_rules\n",
    "from mlxtend.preprocessing import TransactionEncoder\n",
    "import pandas as pd\n",
    "\n",
    "# Sample transaction dataset\n",
    "transactions = [\n",
    "    ['Milk', 'Bread', 'Butter'],\n",
    "    ['Bread', 'Butter', 'Eggs'],\n",
    "    ['Milk', 'Eggs', 'Cheese'],\n",
    "    ['Bread', 'Milk', 'Eggs', 'Butter'],\n",
    "    ['Milk', 'Cheese', 'Butter'],\n",
    "    ['Bread', 'Butter'],\n",
    "    ['Milk', 'Eggs'],\n",
    "    ['Bread', 'Eggs'],\n",
    "    ['Milk', 'Bread', 'Butter', 'Eggs'],\n",
    "    ['Bread', 'Milk', 'Butter']\n",
    "]\n",
    "\n",
    "t = TransactionEncoder()\n",
    "t_ary = t.fit(transactions).transform(transactions)\n",
    "df = pd.DataFrame(t_ary, columns=t.columns_)\n",
    "\n",
    "frequent_itemsets = apriori(df, min_support=0.3, use_colnames=True)\n",
    "rules = association_rules(frequent_itemsets, metric=\"lift\", min_threshold=1.0)\n",
    "\n",
    "print(\"Frequent Itemsets:\")\n",
    "print(frequent_itemsets)\n",
    "print(\"\\nAssociation Rules:\")\n",
    "print(rules)\n"
   ]
  },
  {
   "cell_type": "code",
   "execution_count": null,
   "id": "0456faa2",
   "metadata": {},
   "outputs": [],
   "source": [
    "11.Write a Python program to illustrate the working of Random Forest by loading Iris data set."
   ]
  },
  {
   "cell_type": "code",
   "execution_count": 37,
   "id": "62898d75",
   "metadata": {},
   "outputs": [
    {
     "name": "stdout",
     "output_type": "stream",
     "text": [
      "Requirement already satisfied: scikit-learn in c:\\users\\gayathri rao\\appdata\\local\\programs\\python\\python310\\lib\\site-packages (1.6.1)Note: you may need to restart the kernel to use updated packages.\n",
      "\n",
      "Requirement already satisfied: pandas in c:\\users\\gayathri rao\\appdata\\local\\programs\\python\\python310\\lib\\site-packages (1.5.2)\n",
      "Requirement already satisfied: numpy>=1.19.5 in c:\\users\\gayathri rao\\appdata\\local\\programs\\python\\python310\\lib\\site-packages (from scikit-learn) (1.24.2)\n",
      "Requirement already satisfied: threadpoolctl>=3.1.0 in c:\\users\\gayathri rao\\appdata\\local\\programs\\python\\python310\\lib\\site-packages (from scikit-learn) (3.1.0)\n",
      "Requirement already satisfied: joblib>=1.2.0 in c:\\users\\gayathri rao\\appdata\\local\\programs\\python\\python310\\lib\\site-packages (from scikit-learn) (1.4.2)\n",
      "Requirement already satisfied: scipy>=1.6.0 in c:\\users\\gayathri rao\\appdata\\local\\programs\\python\\python310\\lib\\site-packages (from scikit-learn) (1.9.1)\n",
      "Requirement already satisfied: pytz>=2020.1 in c:\\users\\gayathri rao\\appdata\\local\\programs\\python\\python310\\lib\\site-packages (from pandas) (2022.2.1)\n",
      "Requirement already satisfied: python-dateutil>=2.8.1 in c:\\users\\gayathri rao\\appdata\\local\\programs\\python\\python310\\lib\\site-packages (from pandas) (2.8.2)\n",
      "Requirement already satisfied: six>=1.5 in c:\\users\\gayathri rao\\appdata\\local\\programs\\python\\python310\\lib\\site-packages (from python-dateutil>=2.8.1->pandas) (1.16.0)\n"
     ]
    },
    {
     "name": "stderr",
     "output_type": "stream",
     "text": [
      "\n",
      "[notice] A new release of pip is available: 23.0.1 -> 25.0.1\n",
      "[notice] To update, run: python.exe -m pip install --upgrade pip\n"
     ]
    }
   ],
   "source": [
    "pip install scikit-learn pandas\n"
   ]
  },
  {
   "cell_type": "code",
   "execution_count": 38,
   "id": "ff17bf82",
   "metadata": {},
   "outputs": [
    {
     "name": "stdout",
     "output_type": "stream",
     "text": [
      "Accuracy: 100.00%\n",
      "                   Importance\n",
      "petal length (cm)    0.439994\n",
      "petal width (cm)     0.421522\n",
      "sepal length (cm)    0.108098\n",
      "sepal width (cm)     0.030387\n"
     ]
    }
   ],
   "source": [
    "from sklearn.datasets import load_iris\n",
    "from sklearn.ensemble import RandomForestClassifier\n",
    "from sklearn.model_selection import train_test_split\n",
    "from sklearn.metrics import accuracy_score\n",
    "import pandas as pd\n",
    "\n",
    "# Load dataset\n",
    "data = load_iris()\n",
    "x, y = data.data, data.target\n",
    "\n",
    "x1, x2, y1, y2 = train_test_split(x, y, test_size=0.2, random_state=42)\n",
    "\n",
    "m = RandomForestClassifier(random_state=42)\n",
    "m.fit(x1, y1)\n",
    "\n",
    "p = m.predict(x2)\n",
    "print(f\"Accuracy: {accuracy_score(y2, p)*100:.2f}%\")\n",
    "\n",
    "fi = pd.DataFrame(m.feature_importances_, index=data.feature_names, columns=[\"Importance\"])\n",
    "print(fi.sort_values(by=\"Importance\", ascending=False))\n"
   ]
  },
  {
   "cell_type": "markdown",
   "id": "b3074738",
   "metadata": {},
   "source": [
    "12.\tWrite a Python program to illustrate the working of Decision Tree by loading Iris data set."
   ]
  },
  {
   "cell_type": "code",
   "execution_count": 39,
   "id": "a74d04a1",
   "metadata": {},
   "outputs": [
    {
     "name": "stdout",
     "output_type": "stream",
     "text": [
      "Requirement already satisfied: scikit-learn in c:\\users\\gayathri rao\\appdata\\local\\programs\\python\\python310\\lib\\site-packages (1.6.1)\n",
      "Requirement already satisfied: pandas in c:\\users\\gayathri rao\\appdata\\local\\programs\\python\\python310\\lib\\site-packages (1.5.2)\n",
      "Requirement already satisfied: threadpoolctl>=3.1.0 in c:\\users\\gayathri rao\\appdata\\local\\programs\\python\\python310\\lib\\site-packages (from scikit-learn) (3.1.0)\n",
      "Requirement already satisfied: scipy>=1.6.0 in c:\\users\\gayathri rao\\appdata\\local\\programs\\python\\python310\\lib\\site-packages (from scikit-learn) (1.9.1)\n",
      "Requirement already satisfied: joblib>=1.2.0 in c:\\users\\gayathri rao\\appdata\\local\\programs\\python\\python310\\lib\\site-packages (from scikit-learn) (1.4.2)\n",
      "Requirement already satisfied: numpy>=1.19.5 in c:\\users\\gayathri rao\\appdata\\local\\programs\\python\\python310\\lib\\site-packages (from scikit-learn) (1.24.2)\n",
      "Requirement already satisfied: pytz>=2020.1 in c:\\users\\gayathri rao\\appdata\\local\\programs\\python\\python310\\lib\\site-packages (from pandas) (2022.2.1)\n",
      "Requirement already satisfied: python-dateutil>=2.8.1 in c:\\users\\gayathri rao\\appdata\\local\\programs\\python\\python310\\lib\\site-packages (from pandas) (2.8.2)\n",
      "Requirement already satisfied: six>=1.5 in c:\\users\\gayathri rao\\appdata\\local\\programs\\python\\python310\\lib\\site-packages (from python-dateutil>=2.8.1->pandas) (1.16.0)\n",
      "Note: you may need to restart the kernel to use updated packages.\n"
     ]
    },
    {
     "name": "stderr",
     "output_type": "stream",
     "text": [
      "\n",
      "[notice] A new release of pip is available: 23.0.1 -> 25.0.1\n",
      "[notice] To update, run: python.exe -m pip install --upgrade pip\n"
     ]
    }
   ],
   "source": [
    "pip install scikit-learn pandas\n"
   ]
  },
  {
   "cell_type": "code",
   "execution_count": 40,
   "id": "65cfa73b",
   "metadata": {},
   "outputs": [
    {
     "name": "stdout",
     "output_type": "stream",
     "text": [
      "Accuracy: 100.00%\n",
      "                   Importance\n",
      "petal length (cm)    0.906143\n",
      "petal width (cm)     0.077186\n",
      "sepal width (cm)     0.016670\n",
      "sepal length (cm)    0.000000\n"
     ]
    }
   ],
   "source": [
    "from sklearn.datasets import load_iris\n",
    "from sklearn.tree import DecisionTreeClassifier\n",
    "from sklearn.model_selection import train_test_split\n",
    "from sklearn.metrics import accuracy_score\n",
    "import pandas as pd\n",
    "\n",
    "# Load data\n",
    "d = load_iris()\n",
    "bbx1, x2, y1, y2 = train_test_split(x, y, test_size=0.2, random_state=42)\n",
    "\n",
    "# Train model\n",
    "m = DecisionTreeClassifier(random_state=42).fit(x1, y1)\n",
    "p = m.predict(x2)\n",
    "\n",
    "# Output\n",
    "print(f\"Accuracy: {accuracy_score(y2, p)*100:.2f}%\")\n",
    "print(pd.DataFrame(m.feature_importances_, index=d.feature_names, columns=[\"Importance\"]).sort_values(by=\"Importance\", ascending=False))\n"
   ]
  },
  {
   "cell_type": "markdown",
   "id": "c54d2cef",
   "metadata": {},
   "source": [
    "13.\tWrite a python program to extract extract two simple 2D features from an image."
   ]
  },
  {
   "cell_type": "code",
   "execution_count": 41,
   "id": "57b56adc",
   "metadata": {},
   "outputs": [
    {
     "name": "stdout",
     "output_type": "stream",
     "text": [
      "Requirement already satisfied: opencv-python in c:\\users\\gayathri rao\\appdata\\local\\programs\\python\\python310\\lib\\site-packages (4.6.0.66)Note: you may need to restart the kernel to use updated packages.\n"
     ]
    },
    {
     "name": "stderr",
     "output_type": "stream",
     "text": [
      "\n",
      "[notice] A new release of pip is available: 23.0.1 -> 25.0.1\n",
      "[notice] To update, run: python.exe -m pip install --upgrade pip\n"
     ]
    },
    {
     "name": "stdout",
     "output_type": "stream",
     "text": [
      "\n",
      "Requirement already satisfied: numpy in c:\\users\\gayathri rao\\appdata\\local\\programs\\python\\python310\\lib\\site-packages (1.24.2)\n"
     ]
    }
   ],
   "source": [
    "pip install opencv-python numpy\n"
   ]
  },
  {
   "cell_type": "code",
   "execution_count": 46,
   "id": "3b92165b",
   "metadata": {},
   "outputs": [
    {
     "name": "stdout",
     "output_type": "stream",
     "text": [
      "Mean: 46.55317901234568\n",
      "Edge Density: 0.11358796296296296\n"
     ]
    }
   ],
   "source": [
    "import cv2, numpy as np\n",
    "img = cv2.imread(\"cheeta.png\", 0)\n",
    "if img is None: print(\"Error loading image\")\n",
    "else:\n",
    "    print(\"Mean:\", np.mean(img))\n",
    "    e = cv2.Canny(img, 100, 200)\n",
    "    print(\"Edge Density:\", np.sum(e > 0) / img.size)\n"
   ]
  }
 ],
 "metadata": {
  "kernelspec": {
   "display_name": "Python 3 (ipykernel)",
   "language": "python",
   "name": "python3"
  },
  "language_info": {
   "codemirror_mode": {
    "name": "ipython",
    "version": 3
   },
   "file_extension": ".py",
   "mimetype": "text/x-python",
   "name": "python",
   "nbconvert_exporter": "python",
   "pygments_lexer": "ipython3",
   "version": "3.10.7"
  }
 },
 "nbformat": 4,
 "nbformat_minor": 5
}
